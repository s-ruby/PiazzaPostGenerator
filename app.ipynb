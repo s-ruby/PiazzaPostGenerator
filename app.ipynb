{
 "cells": [
  {
   "cell_type": "code",
   "execution_count": 1,
   "metadata": {
    "collapsed": true
   },
   "outputs": [],
   "source": [
    "from text_generator2 import generate\n",
    "import sys\n",
    "from PyQt5 import QtWidgets, uic, QtGui\n",
    "\n",
    "import sys\n",
    "from PyQt5 import QtWidgets, uic, QtGui\n",
    "from PyQt5.QtCore import pyqtSlot"
   ]
  },
  {
   "cell_type": "code",
   "execution_count": 6,
   "metadata": {},
   "outputs": [
    {
     "name": "stdout",
     "output_type": "stream",
     "text": [
      "PyQt version: 5.13.0\n"
     ]
    }
   ],
   "source": [
    "from PyQt5.Qt import PYQT_VERSION_STR\n",
    "print(\"PyQt version:\", PYQT_VERSION_STR)"
   ]
  },
  {
   "cell_type": "code",
   "execution_count": 2,
   "metadata": {},
   "outputs": [],
   "source": [
    "# app = QtWidgets.QApplication(sys.argv)\n",
    "# window = uic.loadUi(\"untitled.ui\")"
   ]
  },
  {
   "cell_type": "code",
   "execution_count": 3,
   "metadata": {
    "collapsed": true
   },
   "outputs": [],
   "source": [
    "\n",
    "  \n",
    "# app = QtWidgets.QApplication(sys.argv)\n",
    "\n",
    "# window = uic.loadUi(\"untitled.ui\")\n",
    "# window.textEdit.setReadOnly(True)\n",
    "# window.textEdit.setText(\"HOLA\")\n",
    "# pixel = QtGui.QPixmap(\"litaiBackground3.jpg\")\n",
    "# window.label.setPixmap(pixel)\n",
    "# window.pushButton.clicked.connect(buttonPushed)\n",
    "# window.show()\n",
    "# app.exec()"
   ]
  },
  {
   "cell_type": "code",
   "execution_count": 4,
   "metadata": {},
   "outputs": [],
   "source": [
    "class App():\n",
    "    def __init__(self):\n",
    "        self.app = QtWidgets.QApplication(sys.argv)\n",
    "        \n",
    "        self.words = []\n",
    "\n",
    "        self.window = uic.loadUi(\"untitled.ui\")\n",
    "        self.window.textEdit.setReadOnly(True)\n",
    "        pixel = QtGui.QPixmap(\"litaiBackground3.jpg\")\n",
    "        self.window.label.setPixmap(pixel)\n",
    "        \n",
    "        self.window.comboBox.addItem(\"Week 1\")\n",
    "        self.window.comboBox.addItem(\"Week 2\")\n",
    "        self.window.comboBox.addItem(\"Week 3\")\n",
    "        self.window.comboBox.addItem(\"Week 4\")\n",
    "        self.window.comboBox.addItem(\"Week 5\")\n",
    "        self.window.comboBox.addItem(\"Week 6\")\n",
    "\n",
    "        self.window.pushButton.clicked.connect(self.buttonPushed)\n",
    "        self.window.resetButton.clicked.connect(self.resetPushed)\n",
    "        self.window.show()\n",
    "        self.app.exec() \n",
    "          \n",
    "    def buttonPushed(self):\n",
    "        week = str(self.window.comboBox.currentText())[-1]\n",
    "        words = generate(week)\n",
    "        new_line = \"\".join(words)\n",
    "        current_post = self.window.textEdit.toPlainText()\n",
    "        self.window.textEdit.setText(current_post+  \" \" + new_line)\n",
    "        \n",
    "    def resetPushed(self):\n",
    "        self.window.textEdit.setText(\"\")\n"
   ]
  },
  {
   "cell_type": "code",
   "execution_count": 5,
   "metadata": {},
   "outputs": [],
   "source": [
    "a = App()"
   ]
  },
  {
   "cell_type": "code",
   "execution_count": null,
   "metadata": {
    "collapsed": true
   },
   "outputs": [],
   "source": []
  },
  {
   "cell_type": "code",
   "execution_count": null,
   "metadata": {
    "collapsed": true
   },
   "outputs": [],
   "source": []
  },
  {
   "cell_type": "code",
   "execution_count": null,
   "metadata": {
    "collapsed": true
   },
   "outputs": [],
   "source": []
  }
 ],
 "metadata": {
  "kernelspec": {
   "display_name": "Python 3",
   "language": "python",
   "name": "python3"
  },
  "language_info": {
   "codemirror_mode": {
    "name": "ipython",
    "version": 3
   },
   "file_extension": ".py",
   "mimetype": "text/x-python",
   "name": "python",
   "nbconvert_exporter": "python",
   "pygments_lexer": "ipython3",
   "version": "3.5.4"
  }
 },
 "nbformat": 4,
 "nbformat_minor": 2
}
